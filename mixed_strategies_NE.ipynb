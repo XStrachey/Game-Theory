{
 "cells": [
  {
   "cell_type": "code",
   "execution_count": 27,
   "id": "e443de01",
   "metadata": {},
   "outputs": [],
   "source": [
    "import numpy as np\n",
    "import pandas as pd\n",
    "import sympy as sp\n",
    "\n",
    "def find_mixed_strategy_nash_symbolic(payoff_matrix):\n",
    "    \"\"\"\n",
    "    Find mixed strategy Nash equilibrium for 2x2 games using symbolic equations.\n",
    "    \"\"\"\n",
    "    rows = payoff_matrix.index.tolist()\n",
    "    cols = payoff_matrix.columns.tolist()\n",
    "\n",
    "    if len(rows) != 2 or len(cols) != 2:\n",
    "        raise ValueError(\"Only 2x2 games are supported by this simple function.\")\n",
    "\n",
    "    print(payoff_matrix)\n",
    "    \n",
    "    # Extract Player 1 and Player 2 payoff matrices\n",
    "    A = np.array([[payoff_matrix.loc[r, c][0] for c in cols] for r in rows])  # Player 1 payoff\n",
    "    B = np.array([[payoff_matrix.loc[r, c][1] for c in cols] for r in rows])  # Player 2 payoff\n",
    "\n",
    "    # Define symbolic variables\n",
    "    p, q = sp.symbols('p q', real=True)\n",
    "\n",
    "    # Indifference condition for Player 1: q makes Player 1 indifferent between the two rows\n",
    "    eq1 = q * A[0,0] + (1 - q) * A[0,1] - (q * A[1,0] + (1 - q) * A[1,1])\n",
    "\n",
    "    # Indifference condition for Player 2: p makes Player 2 indifferent between the two columns\n",
    "    eq2 = p * B[0,0] + (1 - p) * B[1,0] - (p * B[0,1] + (1 - p) * B[1,1])\n",
    "\n",
    "    print(\"Player 1: \", A[0,0], A[0,1], A[1,0], A[1,1], eq1)\n",
    "    print(\"Player 2: \", B[0,0], B[0,1], B[1,0], B[1,1], eq2)\n",
    "\n",
    "    # Solve the system of equations\n",
    "    solution = sp.solve((eq1, eq2), (p, q), dict=True)\n",
    "\n",
    "    if not solution:\n",
    "        raise ValueError(\"No mixed strategy Nash equilibrium found.\")\n",
    "\n",
    "    # Convert the first solution to float values\n",
    "    sol = solution[0]\n",
    "    p_val = float(sol[p])\n",
    "    q_val = float(sol[q])\n",
    "\n",
    "    # Clip values to the range [0, 1] to avoid numerical issues\n",
    "    p_val = np.clip(p_val, 0, 1)\n",
    "    q_val = np.clip(q_val, 0, 1)\n",
    "\n",
    "    return p_val, q_val, rows, cols\n"
   ]
  },
  {
   "cell_type": "code",
   "execution_count": 28,
   "id": "7fc6099f",
   "metadata": {},
   "outputs": [
    {
     "name": "stdout",
     "output_type": "stream",
     "text": [
      "        L       R\n",
      "U  (2, 2)  (8, 3)\n",
      "D  (3, 8)  (7, 7)\n",
      "Player 1:  2 8 3 7 1 - 2*q\n",
      "Player 2:  2 3 8 7 1 - 2*p\n",
      "Player 1 plays U with prob 0.50, D with prob 0.50\n",
      "Player 2 plays L with prob 0.50, R with prob 0.50\n"
     ]
    }
   ],
   "source": [
    "payoff_matrix = pd.DataFrame({\n",
    "    'L': [(2, 2), (3, 8)],\n",
    "    'R': [(8, 3), (7, 7)]\n",
    "}, index=['U', 'D'])\n",
    "\n",
    "p, q, rows, cols = find_mixed_strategy_nash_symbolic(payoff_matrix)\n",
    "print(f\"Player 1 plays {rows[0]} with prob {p:.2f}, {rows[1]} with prob {1-p:.2f}\")\n",
    "print(f\"Player 2 plays {cols[0]} with prob {q:.2f}, {cols[1]} with prob {1-q:.2f}\")\n"
   ]
  }
 ],
 "metadata": {
  "kernelspec": {
   "display_name": "base",
   "language": "python",
   "name": "python3"
  },
  "language_info": {
   "codemirror_mode": {
    "name": "ipython",
    "version": 3
   },
   "file_extension": ".py",
   "mimetype": "text/x-python",
   "name": "python",
   "nbconvert_exporter": "python",
   "pygments_lexer": "ipython3",
   "version": "3.11.8"
  }
 },
 "nbformat": 4,
 "nbformat_minor": 5
}
