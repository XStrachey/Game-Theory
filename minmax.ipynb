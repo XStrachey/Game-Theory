{
 "cells": [
  {
   "cell_type": "code",
   "execution_count": 3,
   "id": "ec32b209",
   "metadata": {},
   "outputs": [],
   "source": [
    "import numpy as np\n",
    "import pandas as pd\n",
    "\n",
    "def compute_minmax_values(payoff_matrix):\n",
    "    \"\"\"\n",
    "    Compute the pure strategy minmax values for both players.\n",
    "    payoff_matrix: DataFrame, with each cell as a tuple (p1_payoff, p2_payoff)\n",
    "    Returns: (minmax1, minmax2)\n",
    "    \"\"\"\n",
    "\n",
    "    print(payoff_matrix)\n",
    "\n",
    "    rows = payoff_matrix.index.tolist()\n",
    "    cols = payoff_matrix.columns.tolist()\n",
    "    \n",
    "    A = np.array([[payoff_matrix.loc[r, c][0] for c in cols] for r in rows])  # Player 1 payoffs\n",
    "    B = np.array([[payoff_matrix.loc[r, c][1] for c in cols] for r in rows])  # Player 2 payoffs\n",
    "\n",
    "    # Player 1: min over opponent's pure strategies (columns), of max over own rows\n",
    "    p1_col_responses = [max(A[r, i] for r in range(2)) for i in range(2)]\n",
    "    minmax1 = min(p1_col_responses)\n",
    "\n",
    "    # Player 2: min over opponent's pure strategies (rows), of max over own columns\n",
    "    p2_row_responses = [max(B[i, c] for c in range(2)) for i in range(2)]\n",
    "    minmax2 = min(p2_row_responses)\n",
    "\n",
    "    return minmax1, minmax2"
   ]
  },
  {
   "cell_type": "code",
   "execution_count": 4,
   "id": "0437c4bc",
   "metadata": {},
   "outputs": [
    {
     "name": "stdout",
     "output_type": "stream",
     "text": [
      "        L       R\n",
      "T  (1, 3)  (4, 0)\n",
      "B  (2, 0)  (0, 1)\n",
      "Player 1 minmax value: 2\n",
      "Player 2 minmax value: 1\n"
     ]
    }
   ],
   "source": [
    "payoff_matrix = pd.DataFrame({\n",
    "    'L': {'T': (1, 3), 'B': (2, 0)},\n",
    "    'R': {'T': (4, 0), 'B': (0, 1)}\n",
    "})\n",
    "\n",
    "minmax1, minmax2 = compute_minmax_values(payoff_matrix)\n",
    "print(f\"Player 1 minmax value: {minmax1}\")\n",
    "print(f\"Player 2 minmax value: {minmax2}\")\n"
   ]
  }
 ],
 "metadata": {
  "kernelspec": {
   "display_name": "base",
   "language": "python",
   "name": "python3"
  },
  "language_info": {
   "codemirror_mode": {
    "name": "ipython",
    "version": 3
   },
   "file_extension": ".py",
   "mimetype": "text/x-python",
   "name": "python",
   "nbconvert_exporter": "python",
   "pygments_lexer": "ipython3",
   "version": "3.11.8"
  }
 },
 "nbformat": 4,
 "nbformat_minor": 5
}
