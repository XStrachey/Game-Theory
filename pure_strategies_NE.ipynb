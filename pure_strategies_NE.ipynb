{
 "cells": [
  {
   "cell_type": "code",
   "execution_count": 10,
   "id": "e327a7b7",
   "metadata": {},
   "outputs": [],
   "source": [
    "import pandas as pd\n",
    "\n",
    "def find_pure_strategy_nash_equilibria(payoff_matrix):\n",
    "    equilibria = []\n",
    "    rows = payoff_matrix.index\n",
    "    cols = payoff_matrix.columns\n",
    "\n",
    "    best_responses_p1 = {}\n",
    "    for col in cols:\n",
    "        column_payoffs = payoff_matrix[col].apply(lambda x: x[0])\n",
    "        max_payoff = column_payoffs.max()\n",
    "        best_rows = column_payoffs[column_payoffs == max_payoff].index.tolist()\n",
    "        best_responses_p1[col] = set(best_rows)\n",
    "\n",
    "    best_responses_p2 = {}\n",
    "    for row in rows:\n",
    "        row_payoffs = payoff_matrix.loc[row].apply(lambda x: x[1])\n",
    "        max_payoff = row_payoffs.max()\n",
    "        best_cols = row_payoffs[row_payoffs == max_payoff].index.tolist()\n",
    "        best_responses_p2[row] = set(best_cols)\n",
    "\n",
    "    for row in rows:\n",
    "        for col in cols:\n",
    "            if (row in best_responses_p1[col]) and (col in best_responses_p2[row]):\n",
    "                equilibria.append((row, col))\n",
    "\n",
    "    return equilibria\n",
    "\n",
    "def display_payoff_with_highlight(payoff_matrix, equilibria):\n",
    "    \"\"\"\n",
    "    Display the payoff matrix with ✔️ and green background for equilibria.\n",
    "    \"\"\"\n",
    "    # Create a copy for display\n",
    "    display_matrix = payoff_matrix.copy()\n",
    "\n",
    "    # Add ✔️ if it's an equilibrium\n",
    "    for row in payoff_matrix.index:\n",
    "        for col in payoff_matrix.columns:\n",
    "            cell_value = payoff_matrix.loc[row, col]\n",
    "            if (row, col) in equilibria:\n",
    "                display_matrix.loc[row, col] = f\"{cell_value} ✔️\"\n",
    "            else:\n",
    "                display_matrix.loc[row, col] = f\"{cell_value}\"\n",
    "\n",
    "    # Function to apply background color\n",
    "    def highlight(cell):\n",
    "        if isinstance(cell, str) and '✔️' in cell:\n",
    "            return 'background-color: green'\n",
    "        else:\n",
    "            return ''\n",
    "\n",
    "    # Apply the highlighting using applymap\n",
    "    styled = display_matrix.style.applymap(highlight)\n",
    "    return styled\n"
   ]
  },
  {
   "cell_type": "code",
   "execution_count": 11,
   "id": "30055e47",
   "metadata": {},
   "outputs": [
    {
     "name": "stdout",
     "output_type": "stream",
     "text": [
      "\n",
      "Pure Strategy Nash Equilibria:\n",
      "Player 1 chooses U, Player 2 chooses L\n",
      "Player 1 chooses D, Player 2 chooses R\n",
      "\n",
      "Payoff Matrix with Equilibria Highlighted:\n"
     ]
    },
    {
     "name": "stderr",
     "output_type": "stream",
     "text": [
      "/var/folders/_x/43n5hx2d6hqf1v6v65qbln8c0000gn/T/ipykernel_50368/2069280024.py:53: FutureWarning: Styler.applymap has been deprecated. Use Styler.map instead.\n",
      "  styled = display_matrix.style.applymap(highlight)\n"
     ]
    },
    {
     "data": {
      "text/html": [
       "<style type=\"text/css\">\n",
       "#T_a292a_row0_col0, #T_a292a_row1_col1 {\n",
       "  background-color: green;\n",
       "}\n",
       "</style>\n",
       "<table id=\"T_a292a\">\n",
       "  <thead>\n",
       "    <tr>\n",
       "      <th class=\"blank level0\" >&nbsp;</th>\n",
       "      <th id=\"T_a292a_level0_col0\" class=\"col_heading level0 col0\" >L</th>\n",
       "      <th id=\"T_a292a_level0_col1\" class=\"col_heading level0 col1\" >R</th>\n",
       "    </tr>\n",
       "  </thead>\n",
       "  <tbody>\n",
       "    <tr>\n",
       "      <th id=\"T_a292a_level0_row0\" class=\"row_heading level0 row0\" >U</th>\n",
       "      <td id=\"T_a292a_row0_col0\" class=\"data row0 col0\" >(2, 2) ✔️</td>\n",
       "      <td id=\"T_a292a_row0_col1\" class=\"data row0 col1\" >(3, 1)</td>\n",
       "    </tr>\n",
       "    <tr>\n",
       "      <th id=\"T_a292a_level0_row1\" class=\"row_heading level0 row1\" >D</th>\n",
       "      <td id=\"T_a292a_row1_col0\" class=\"data row1 col0\" >(1, 3)</td>\n",
       "      <td id=\"T_a292a_row1_col1\" class=\"data row1 col1\" >(7, 7) ✔️</td>\n",
       "    </tr>\n",
       "  </tbody>\n",
       "</table>\n"
      ],
      "text/plain": [
       "<pandas.io.formats.style.Styler at 0x16d688250>"
      ]
     },
     "metadata": {},
     "output_type": "display_data"
    }
   ],
   "source": [
    "# --- Example usage ---\n",
    "\n",
    "payoff_matrix = pd.DataFrame({\n",
    "    'L': [(2, 2), (1, 3)],\n",
    "    'R': [(3, 1), (7, 7)]\n",
    "}, index=['U', 'D'])\n",
    "\n",
    "equilibria = find_pure_strategy_nash_equilibria(payoff_matrix)\n",
    "\n",
    "print(\"\\nPure Strategy Nash Equilibria:\")\n",
    "for eq in equilibria:\n",
    "    print(f\"Player 1 chooses {eq[0]}, Player 2 chooses {eq[1]}\")\n",
    "\n",
    "print(\"\\nPayoff Matrix with Equilibria Highlighted:\")\n",
    "\n",
    "styled_matrix = display_payoff_with_highlight(payoff_matrix, equilibria)\n",
    "display(styled_matrix)"
   ]
  }
 ],
 "metadata": {
  "kernelspec": {
   "display_name": "base",
   "language": "python",
   "name": "python3"
  },
  "language_info": {
   "codemirror_mode": {
    "name": "ipython",
    "version": 3
   },
   "file_extension": ".py",
   "mimetype": "text/x-python",
   "name": "python",
   "nbconvert_exporter": "python",
   "pygments_lexer": "ipython3",
   "version": "3.11.8"
  }
 },
 "nbformat": 4,
 "nbformat_minor": 5
}
